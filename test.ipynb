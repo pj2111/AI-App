{
 "cells": [
  {
   "cell_type": "code",
   "execution_count": 1,
   "metadata": {},
   "outputs": [
    {
     "name": "stderr",
     "output_type": "stream",
     "text": [
      "/Users/apple/Desktop/NLP_Projects/venv_ai_app/lib/python3.11/site-packages/huggingface_hub/file_download.py:1132: FutureWarning: `resume_download` is deprecated and will be removed in version 1.0.0. Downloads always resume when possible. If you want to force a new download, use `force_download=True`.\n",
      "  warnings.warn(\n"
     ]
    },
    {
     "data": {
      "application/vnd.jupyter.widget-view+json": {
       "model_id": "26cb00970d734a4abb06b7a3e0166f3f",
       "version_major": 2,
       "version_minor": 0
      },
      "text/plain": [
       "model.safetensors:   0%|          | 0.00/1.63G [00:00<?, ?B/s]"
      ]
     },
     "metadata": {},
     "output_type": "display_data"
    },
    {
     "name": "stderr",
     "output_type": "stream",
     "text": [
      "Error while downloading from https://cdn-lfs.huggingface.co/facebook/bart-large-mnli/cfbb687dbbd9df99fe865e1860350a22aebac4d26ee4bcb50217f1df606a018e?response-content-disposition=attachment%3B+filename*%3DUTF-8%27%27model.safetensors%3B+filename%3D%22model.safetensors%22%3B&Expires=1716009289&Policy=eyJTdGF0ZW1lbnQiOlt7IkNvbmRpdGlvbiI6eyJEYXRlTGVzc1RoYW4iOnsiQVdTOkVwb2NoVGltZSI6MTcxNjAwOTI4OX19LCJSZXNvdXJjZSI6Imh0dHBzOi8vY2RuLWxmcy5odWdnaW5nZmFjZS5jby9mYWNlYm9vay9iYXJ0LWxhcmdlLW1ubGkvY2ZiYjY4N2RiYmQ5ZGY5OWZlODY1ZTE4NjAzNTBhMjJhZWJhYzRkMjZlZTRiY2I1MDIxN2YxZGY2MDZhMDE4ZT9yZXNwb25zZS1jb250ZW50LWRpc3Bvc2l0aW9uPSoifV19&Signature=GIwLoLSU3osEjeoht-ezdnZ45HyMxSATvTsHm-a9bmnypuKgwAzGmeJqEYR2xjtAqPpMCgW6RvkYvmvdkFFwaVI1MgjlQh%7E9favu%7EAm5-de9ZN4mokxr5W0bF2jcBWV--QepkXVCN5Cur2NMyG1-UB53v1w3lHIrYWcWaVxrb8tHoncMLg89R9urIrne-1io-7rOTsHXUIH563rhXDh8l8tHEWjqFy61PAswer2X%7E-%7EGy0deSK7jI-pzDq12Hf0rbUZnYRnSZ0yshmVkldFIcui2R4qnvEgFsjOTNUe0Y4abKDLO4GorhF%7EMs6CmctiVZSSRCdpnCwJUJ3XskHCkQQ__&Key-Pair-Id=KVTP0A1DKRTAX: HTTPSConnectionPool(host='cdn-lfs.huggingface.co', port=443): Read timed out.\n",
      "Trying to resume download...\n"
     ]
    },
    {
     "data": {
      "application/vnd.jupyter.widget-view+json": {
       "model_id": "1406320849c240dfb8b421dda3b3ab9b",
       "version_major": 2,
       "version_minor": 0
      },
      "text/plain": [
       "model.safetensors:  59%|#####9    | 965M/1.63G [00:00<?, ?B/s]"
      ]
     },
     "metadata": {},
     "output_type": "display_data"
    },
    {
     "data": {
      "application/vnd.jupyter.widget-view+json": {
       "model_id": "3504da8c0ac84d3db3ea82a860ca8fc4",
       "version_major": 2,
       "version_minor": 0
      },
      "text/plain": [
       "tokenizer_config.json:   0%|          | 0.00/26.0 [00:00<?, ?B/s]"
      ]
     },
     "metadata": {},
     "output_type": "display_data"
    },
    {
     "data": {
      "application/vnd.jupyter.widget-view+json": {
       "model_id": "fce957a25e6f4724b9299b9f48846a66",
       "version_major": 2,
       "version_minor": 0
      },
      "text/plain": [
       "vocab.json:   0%|          | 0.00/899k [00:00<?, ?B/s]"
      ]
     },
     "metadata": {},
     "output_type": "display_data"
    },
    {
     "data": {
      "application/vnd.jupyter.widget-view+json": {
       "model_id": "695e075f0c97473f9ddf79b91d236a1f",
       "version_major": 2,
       "version_minor": 0
      },
      "text/plain": [
       "merges.txt:   0%|          | 0.00/456k [00:00<?, ?B/s]"
      ]
     },
     "metadata": {},
     "output_type": "display_data"
    },
    {
     "data": {
      "application/vnd.jupyter.widget-view+json": {
       "model_id": "d23694fac06e4f2f8555d018a1c397bf",
       "version_major": 2,
       "version_minor": 0
      },
      "text/plain": [
       "tokenizer.json:   0%|          | 0.00/1.36M [00:00<?, ?B/s]"
      ]
     },
     "metadata": {},
     "output_type": "display_data"
    }
   ],
   "source": [
    "from transformers import pipeline\n",
    "\n",
    "pipe = pipeline('zero-shot-classification','facebook/bart-large-mnli')\n"
   ]
  },
  {
   "cell_type": "code",
   "execution_count": 48,
   "metadata": {},
   "outputs": [],
   "source": [
    "classes = ['IT issue', \"News\", \"Entertainment\"]"
   ]
  },
  {
   "cell_type": "code",
   "execution_count": 15,
   "metadata": {},
   "outputs": [
    {
     "data": {
      "text/plain": [
       "{'sequence': 'Reset my password',\n",
       " 'labels': ['IT issue', 'Entertainment', 'News'],\n",
       " 'scores': [0.636796236038208, 0.22437287867069244, 0.13883090019226074]}"
      ]
     },
     "execution_count": 15,
     "metadata": {},
     "output_type": "execute_result"
    }
   ],
   "source": [
    "output = pipe(\"Reset my password\",['IT issue', \"News\", \"Entertainment\"])\n",
    "output"
   ]
  },
  {
   "cell_type": "code",
   "execution_count": 22,
   "metadata": {},
   "outputs": [
    {
     "data": {
      "text/plain": [
       "{'labels': ['IT issue', 'Entertainment', 'News'],\n",
       " 'scores': [0.636796236038208, 0.22437287867069244, 0.13883090019226074]}"
      ]
     },
     "execution_count": 22,
     "metadata": {},
     "output_type": "execute_result"
    }
   ],
   "source": [
    "sub_output={x:output[x] for x in ['labels', 'scores']}\n",
    "sub_output"
   ]
  },
  {
   "cell_type": "code",
   "execution_count": 31,
   "metadata": {},
   "outputs": [
    {
     "data": {
      "text/plain": [
       "{'IT issue': 0.636796236038208,\n",
       " 'Entertainment': 0.22437287867069244,\n",
       " 'News': 0.13883090019226074}"
      ]
     },
     "execution_count": 31,
     "metadata": {},
     "output_type": "execute_result"
    }
   ],
   "source": [
    "st_output = dict(zip(output['labels'],output['scores']))\n",
    "st_output"
   ]
  },
  {
   "cell_type": "code",
   "execution_count": 30,
   "metadata": {},
   "outputs": [
    {
     "name": "stdout",
     "output_type": "stream",
     "text": [
      "IT issue 0.636796236038208\n",
      "Entertainment 0.22437287867069244\n",
      "News 0.13883090019226074\n"
     ]
    }
   ],
   "source": [
    "for i,k in st_output.items():\n",
    "    print(i,k)"
   ]
  },
  {
   "cell_type": "code",
   "execution_count": 11,
   "metadata": {},
   "outputs": [
    {
     "data": {
      "text/html": [
       "<div>\n",
       "<style scoped>\n",
       "    .dataframe tbody tr th:only-of-type {\n",
       "        vertical-align: middle;\n",
       "    }\n",
       "\n",
       "    .dataframe tbody tr th {\n",
       "        vertical-align: top;\n",
       "    }\n",
       "\n",
       "    .dataframe thead th {\n",
       "        text-align: right;\n",
       "    }\n",
       "</style>\n",
       "<table border=\"1\" class=\"dataframe\">\n",
       "  <thead>\n",
       "    <tr style=\"text-align: right;\">\n",
       "      <th></th>\n",
       "      <th>sequence</th>\n",
       "      <th>labels</th>\n",
       "      <th>scores</th>\n",
       "    </tr>\n",
       "  </thead>\n",
       "  <tbody>\n",
       "    <tr>\n",
       "      <th>0</th>\n",
       "      <td>Reset my password</td>\n",
       "      <td>IT issue</td>\n",
       "      <td>0.636796</td>\n",
       "    </tr>\n",
       "    <tr>\n",
       "      <th>1</th>\n",
       "      <td>Reset my password</td>\n",
       "      <td>Entertainment</td>\n",
       "      <td>0.224373</td>\n",
       "    </tr>\n",
       "    <tr>\n",
       "      <th>2</th>\n",
       "      <td>Reset my password</td>\n",
       "      <td>News</td>\n",
       "      <td>0.138831</td>\n",
       "    </tr>\n",
       "  </tbody>\n",
       "</table>\n",
       "</div>"
      ],
      "text/plain": [
       "            sequence         labels    scores\n",
       "0  Reset my password       IT issue  0.636796\n",
       "1  Reset my password  Entertainment  0.224373\n",
       "2  Reset my password           News  0.138831"
      ]
     },
     "execution_count": 11,
     "metadata": {},
     "output_type": "execute_result"
    }
   ],
   "source": [
    "import pandas as pd\n",
    "df = pd.DataFrame(output)\n",
    "df"
   ]
  },
  {
   "cell_type": "code",
   "execution_count": 12,
   "metadata": {},
   "outputs": [
    {
     "name": "stdout",
     "output_type": "stream",
     "text": [
      "Collecting flask\n",
      "  Obtaining dependency information for flask from https://files.pythonhosted.org/packages/61/80/ffe1da13ad9300f87c93af113edd0638c75138c42a0994becfacac078c06/flask-3.0.3-py3-none-any.whl.metadata\n",
      "  Downloading flask-3.0.3-py3-none-any.whl.metadata (3.2 kB)\n",
      "Collecting Werkzeug>=3.0.0 (from flask)\n",
      "  Obtaining dependency information for Werkzeug>=3.0.0 from https://files.pythonhosted.org/packages/9d/6e/e792999e816d19d7fcbfa94c730936750036d65656a76a5a688b57a656c4/werkzeug-3.0.3-py3-none-any.whl.metadata\n",
      "  Downloading werkzeug-3.0.3-py3-none-any.whl.metadata (3.7 kB)\n",
      "Requirement already satisfied: Jinja2>=3.1.2 in /Users/apple/Desktop/NLP_Projects/venv_ai_app/lib/python3.11/site-packages (from flask) (3.1.4)\n",
      "Collecting itsdangerous>=2.1.2 (from flask)\n",
      "  Obtaining dependency information for itsdangerous>=2.1.2 from https://files.pythonhosted.org/packages/04/96/92447566d16df59b2a776c0fb82dbc4d9e07cd95062562af01e408583fc4/itsdangerous-2.2.0-py3-none-any.whl.metadata\n",
      "  Downloading itsdangerous-2.2.0-py3-none-any.whl.metadata (1.9 kB)\n",
      "Requirement already satisfied: click>=8.1.3 in /Users/apple/Desktop/NLP_Projects/venv_ai_app/lib/python3.11/site-packages (from flask) (8.1.7)\n",
      "Requirement already satisfied: blinker>=1.6.2 in /Users/apple/Desktop/NLP_Projects/venv_ai_app/lib/python3.11/site-packages (from flask) (1.8.2)\n",
      "Requirement already satisfied: MarkupSafe>=2.0 in /Users/apple/Desktop/NLP_Projects/venv_ai_app/lib/python3.11/site-packages (from Jinja2>=3.1.2->flask) (2.1.5)\n",
      "Downloading flask-3.0.3-py3-none-any.whl (101 kB)\n",
      "\u001b[2K   \u001b[90m━━━━━━━━━━━━━━━━━━━━━━━━━━━━━━━━━━━━━━━\u001b[0m \u001b[32m101.7/101.7 kB\u001b[0m \u001b[31m708.9 kB/s\u001b[0m eta \u001b[36m0:00:00\u001b[0ma \u001b[36m0:00:01\u001b[0m\n",
      "\u001b[?25hDownloading itsdangerous-2.2.0-py3-none-any.whl (16 kB)\n",
      "Downloading werkzeug-3.0.3-py3-none-any.whl (227 kB)\n",
      "\u001b[2K   \u001b[90m━━━━━━━━━━━━━━━━━━━━━━━━━━━━━━━━━━━━━━━━\u001b[0m \u001b[32m227.3/227.3 kB\u001b[0m \u001b[31m1.5 MB/s\u001b[0m eta \u001b[36m0:00:00\u001b[0m00:01\u001b[0m00:01\u001b[0mm\n",
      "\u001b[?25hInstalling collected packages: Werkzeug, itsdangerous, flask\n",
      "Successfully installed Werkzeug-3.0.3 flask-3.0.3 itsdangerous-2.2.0\n",
      "\n",
      "\u001b[1m[\u001b[0m\u001b[34;49mnotice\u001b[0m\u001b[1;39;49m]\u001b[0m\u001b[39;49m A new release of pip is available: \u001b[0m\u001b[31;49m23.2.1\u001b[0m\u001b[39;49m -> \u001b[0m\u001b[32;49m24.0\u001b[0m\n",
      "\u001b[1m[\u001b[0m\u001b[34;49mnotice\u001b[0m\u001b[1;39;49m]\u001b[0m\u001b[39;49m To update, run: \u001b[0m\u001b[32;49mpip install --upgrade pip\u001b[0m\n"
     ]
    }
   ],
   "source": [
    "!pip install flask"
   ]
  },
  {
   "cell_type": "code",
   "execution_count": null,
   "metadata": {},
   "outputs": [],
   "source": [
    "# load excel -- select a ds-- excel file or any ds from HF DS--start with any\n",
    "# create backend then create frontend\n"
   ]
  },
  {
   "cell_type": "code",
   "execution_count": 35,
   "metadata": {},
   "outputs": [
    {
     "data": {
      "text/html": [
       "<div>\n",
       "<style scoped>\n",
       "    .dataframe tbody tr th:only-of-type {\n",
       "        vertical-align: middle;\n",
       "    }\n",
       "\n",
       "    .dataframe tbody tr th {\n",
       "        vertical-align: top;\n",
       "    }\n",
       "\n",
       "    .dataframe thead th {\n",
       "        text-align: right;\n",
       "    }\n",
       "</style>\n",
       "<table border=\"1\" class=\"dataframe\">\n",
       "  <thead>\n",
       "    <tr style=\"text-align: right;\">\n",
       "      <th></th>\n",
       "      <th>From</th>\n",
       "      <th>To</th>\n",
       "      <th>Date</th>\n",
       "      <th>No_of_Attachments</th>\n",
       "      <th>Attachment_type</th>\n",
       "      <th>Subject</th>\n",
       "      <th>Body</th>\n",
       "      <th>Target</th>\n",
       "    </tr>\n",
       "  </thead>\n",
       "  <tbody>\n",
       "    <tr>\n",
       "      <th>0</th>\n",
       "      <td>John@ABCShipping.com</td>\n",
       "      <td>SingaporeBooking@wns.com, Shawn@ABCShipping.co...</td>\n",
       "      <td>2020-12-05 00:00:00</td>\n",
       "      <td>0</td>\n",
       "      <td>NaN</td>\n",
       "      <td>Booking Request SIN to AWP  RG43423434</td>\n",
       "      <td>Please book our shippment on 20 May SIN to HAM...</td>\n",
       "      <td>Booking</td>\n",
       "    </tr>\n",
       "    <tr>\n",
       "      <th>1</th>\n",
       "      <td>John@ABCShipping.com</td>\n",
       "      <td>SingaporeBooking@wns.com, Shawn@ABCShipping.co...</td>\n",
       "      <td>5/13/2020</td>\n",
       "      <td>0</td>\n",
       "      <td>NaN</td>\n",
       "      <td>Re: Booking Request SIN to AWP  RG43423434</td>\n",
       "      <td>Please change Quantity to 10\\n\\nFrom: Singapor...</td>\n",
       "      <td>Booking Amendment</td>\n",
       "    </tr>\n",
       "    <tr>\n",
       "      <th>2</th>\n",
       "      <td>Brenda@JLMLogistics.com</td>\n",
       "      <td>SingaporeBooking@wns.com, Tony@ABCShipping.com...</td>\n",
       "      <td>4/18/2020</td>\n",
       "      <td>0</td>\n",
       "      <td>NaN</td>\n",
       "      <td>HBL  no. 4253554</td>\n",
       "      <td>Dear All,\\nPlease book us on below:\\nSingapore...</td>\n",
       "      <td>Booking</td>\n",
       "    </tr>\n",
       "  </tbody>\n",
       "</table>\n",
       "</div>"
      ],
      "text/plain": [
       "                      From                                                 To  \\\n",
       "0     John@ABCShipping.com  SingaporeBooking@wns.com, Shawn@ABCShipping.co...   \n",
       "1     John@ABCShipping.com  SingaporeBooking@wns.com, Shawn@ABCShipping.co...   \n",
       "2  Brenda@JLMLogistics.com  SingaporeBooking@wns.com, Tony@ABCShipping.com...   \n",
       "\n",
       "                  Date  No_of_Attachments Attachment_type  \\\n",
       "0  2020-12-05 00:00:00                  0             NaN   \n",
       "1            5/13/2020                  0             NaN   \n",
       "2            4/18/2020                  0             NaN   \n",
       "\n",
       "                                      Subject  \\\n",
       "0      Booking Request SIN to AWP  RG43423434   \n",
       "1  Re: Booking Request SIN to AWP  RG43423434   \n",
       "2                            HBL  no. 4253554   \n",
       "\n",
       "                                                Body             Target  \n",
       "0  Please book our shippment on 20 May SIN to HAM...            Booking  \n",
       "1  Please change Quantity to 10\\n\\nFrom: Singapor...  Booking Amendment  \n",
       "2  Dear All,\\nPlease book us on below:\\nSingapore...            Booking  "
      ]
     },
     "execution_count": 35,
     "metadata": {},
     "output_type": "execute_result"
    }
   ],
   "source": [
    "import pandas as pd\n",
    "df = pd.read_excel(\"emails_shipping.xlsx\")\n",
    "df.head(3)"
   ]
  },
  {
   "cell_type": "code",
   "execution_count": 37,
   "metadata": {},
   "outputs": [
    {
     "data": {
      "text/html": [
       "<div>\n",
       "<style scoped>\n",
       "    .dataframe tbody tr th:only-of-type {\n",
       "        vertical-align: middle;\n",
       "    }\n",
       "\n",
       "    .dataframe tbody tr th {\n",
       "        vertical-align: top;\n",
       "    }\n",
       "\n",
       "    .dataframe thead th {\n",
       "        text-align: right;\n",
       "    }\n",
       "</style>\n",
       "<table border=\"1\" class=\"dataframe\">\n",
       "  <thead>\n",
       "    <tr style=\"text-align: right;\">\n",
       "      <th></th>\n",
       "      <th>From</th>\n",
       "      <th>To</th>\n",
       "      <th>Date</th>\n",
       "      <th>No_of_Attachments</th>\n",
       "      <th>Attachment_type</th>\n",
       "      <th>Subject</th>\n",
       "      <th>Body</th>\n",
       "      <th>Target</th>\n",
       "      <th>text</th>\n",
       "    </tr>\n",
       "  </thead>\n",
       "  <tbody>\n",
       "    <tr>\n",
       "      <th>0</th>\n",
       "      <td>John@ABCShipping.com</td>\n",
       "      <td>SingaporeBooking@wns.com, Shawn@ABCShipping.co...</td>\n",
       "      <td>2020-12-05 00:00:00</td>\n",
       "      <td>0</td>\n",
       "      <td>NaN</td>\n",
       "      <td>Booking Request SIN to AWP  RG43423434</td>\n",
       "      <td>Please book our shippment on 20 May SIN to HAM...</td>\n",
       "      <td>Booking</td>\n",
       "      <td>Booking Request SIN to AWP  RG43423434 Please ...</td>\n",
       "    </tr>\n",
       "    <tr>\n",
       "      <th>1</th>\n",
       "      <td>John@ABCShipping.com</td>\n",
       "      <td>SingaporeBooking@wns.com, Shawn@ABCShipping.co...</td>\n",
       "      <td>5/13/2020</td>\n",
       "      <td>0</td>\n",
       "      <td>NaN</td>\n",
       "      <td>Re: Booking Request SIN to AWP  RG43423434</td>\n",
       "      <td>Please change Quantity to 10\\n\\nFrom: Singapor...</td>\n",
       "      <td>Booking Amendment</td>\n",
       "      <td>Re: Booking Request SIN to AWP  RG43423434 Ple...</td>\n",
       "    </tr>\n",
       "    <tr>\n",
       "      <th>2</th>\n",
       "      <td>Brenda@JLMLogistics.com</td>\n",
       "      <td>SingaporeBooking@wns.com, Tony@ABCShipping.com...</td>\n",
       "      <td>4/18/2020</td>\n",
       "      <td>0</td>\n",
       "      <td>NaN</td>\n",
       "      <td>HBL  no. 4253554</td>\n",
       "      <td>Dear All,\\nPlease book us on below:\\nSingapore...</td>\n",
       "      <td>Booking</td>\n",
       "      <td>HBL  no. 4253554 Dear All,\\nPlease book us on ...</td>\n",
       "    </tr>\n",
       "  </tbody>\n",
       "</table>\n",
       "</div>"
      ],
      "text/plain": [
       "                      From                                                 To  \\\n",
       "0     John@ABCShipping.com  SingaporeBooking@wns.com, Shawn@ABCShipping.co...   \n",
       "1     John@ABCShipping.com  SingaporeBooking@wns.com, Shawn@ABCShipping.co...   \n",
       "2  Brenda@JLMLogistics.com  SingaporeBooking@wns.com, Tony@ABCShipping.com...   \n",
       "\n",
       "                  Date  No_of_Attachments Attachment_type  \\\n",
       "0  2020-12-05 00:00:00                  0             NaN   \n",
       "1            5/13/2020                  0             NaN   \n",
       "2            4/18/2020                  0             NaN   \n",
       "\n",
       "                                      Subject  \\\n",
       "0      Booking Request SIN to AWP  RG43423434   \n",
       "1  Re: Booking Request SIN to AWP  RG43423434   \n",
       "2                            HBL  no. 4253554   \n",
       "\n",
       "                                                Body             Target  \\\n",
       "0  Please book our shippment on 20 May SIN to HAM...            Booking   \n",
       "1  Please change Quantity to 10\\n\\nFrom: Singapor...  Booking Amendment   \n",
       "2  Dear All,\\nPlease book us on below:\\nSingapore...            Booking   \n",
       "\n",
       "                                                text  \n",
       "0  Booking Request SIN to AWP  RG43423434 Please ...  \n",
       "1  Re: Booking Request SIN to AWP  RG43423434 Ple...  \n",
       "2  HBL  no. 4253554 Dear All,\\nPlease book us on ...  "
      ]
     },
     "execution_count": 37,
     "metadata": {},
     "output_type": "execute_result"
    }
   ],
   "source": [
    "df['text']=df['Subject']+'. ' +df['Body']\n",
    "df.head(3)"
   ]
  },
  {
   "cell_type": "code",
   "execution_count": 60,
   "metadata": {},
   "outputs": [
    {
     "data": {
      "text/plain": [
       "[{'sequence': 'Booking Request SIN to AWP  RG43423434 Please book our shippment on 20 May SIN to HAM.\\nFREIGHT PREPAID  \\nSee details - \\nGross Wt. - 205 kgs\\nVolume - 0.51 cbm\\n',\n",
       "  'labels': ['News', 'Entertainment', 'IT issue'],\n",
       "  'scores': [0.5767813324928284, 0.32675623893737793, 0.09646248072385788]},\n",
       " {'sequence': 'Re: Booking Request SIN to AWP  RG43423434 Please change Quantity to 10\\n\\nFrom: SingaporeBooking@wns.com\\nDate: 12/5/2020\\nTo: John@ABCShipping.com, Shawn@ABCShipping.com, Rav@ECULine.com\\nSubject: Re: Booking Request SIN to AWP  RG43423434\\n\\nHi, \\nYour shipment Booked - Booking id - 12121212\\n\\nFrom: John@ABCShipping.com\\nDate: 12/5/2020\\nTo: SingaporeBooking@wns.com, Shawn@ABCShipping.com, Rav@ECULine.com\\nSubject: Booking Request SIN to AWP  \\n\\n\\nPlease book our shippment on 20 May SIN to HAM.\\nFREIGHT PREPAID  \\nSee details - \\nGross Wt. - 205 kgs\\nVolume - 0.51 cbm\\n',\n",
       "  'labels': ['News', 'Entertainment', 'IT issue'],\n",
       "  'scores': [0.5460141897201538, 0.33170321583747864, 0.12228256464004517]},\n",
       " {'sequence': 'HBL  no. 4253554 Dear All,\\nPlease book us on below:\\nSingapore / Chennai\\n5 Packages / 45.3 kg / 0.33 M3\\nFreight Paid\\nElectrical parts',\n",
       "  'labels': ['News', 'Entertainment', 'IT issue'],\n",
       "  'scores': [0.7583906650543213, 0.1628202646970749, 0.07878908514976501]}]"
      ]
     },
     "execution_count": 60,
     "metadata": {},
     "output_type": "execute_result"
    }
   ],
   "source": [
    "batch_output = pipe(list(df['text'][:3]),classes)\n",
    "batch_output"
   ]
  },
  {
   "cell_type": "code",
   "execution_count": 61,
   "metadata": {},
   "outputs": [
    {
     "ename": "TypeError",
     "evalue": "list indices must be integers or slices, not str",
     "output_type": "error",
     "traceback": [
      "\u001b[0;31m---------------------------------------------------------------------------\u001b[0m",
      "\u001b[0;31mTypeError\u001b[0m                                 Traceback (most recent call last)",
      "Cell \u001b[0;32mIn[61], line 1\u001b[0m\n\u001b[0;32m----> 1\u001b[0m batch_output[\u001b[39m'\u001b[39;49m\u001b[39mlabel\u001b[39;49m\u001b[39m'\u001b[39;49m]\n",
      "\u001b[0;31mTypeError\u001b[0m: list indices must be integers or slices, not str"
     ]
    }
   ],
   "source": [
    "batch_output['label']"
   ]
  },
  {
   "cell_type": "code",
   "execution_count": 62,
   "metadata": {},
   "outputs": [
    {
     "data": {
      "text/plain": [
       "['News', 'News', 'News']"
      ]
     },
     "execution_count": 62,
     "metadata": {},
     "output_type": "execute_result"
    }
   ],
   "source": [
    "[i['labels'][0] for i in batch_output]"
   ]
  },
  {
   "cell_type": "code",
   "execution_count": 65,
   "metadata": {},
   "outputs": [
    {
     "name": "stderr",
     "output_type": "stream",
     "text": [
      "/var/folders/m_/_x8t4kvn0334z53zdz_86l400000gp/T/ipykernel_56480/2521900963.py:2: SettingWithCopyWarning: \n",
      "A value is trying to be set on a copy of a slice from a DataFrame.\n",
      "Try using .loc[row_indexer,col_indexer] = value instead\n",
      "\n",
      "See the caveats in the documentation: https://pandas.pydata.org/pandas-docs/stable/user_guide/indexing.html#returning-a-view-versus-a-copy\n",
      "  df1['predicted']=[i['labels'][0] for i in batch_output]\n"
     ]
    },
    {
     "data": {
      "text/html": [
       "<div>\n",
       "<style scoped>\n",
       "    .dataframe tbody tr th:only-of-type {\n",
       "        vertical-align: middle;\n",
       "    }\n",
       "\n",
       "    .dataframe tbody tr th {\n",
       "        vertical-align: top;\n",
       "    }\n",
       "\n",
       "    .dataframe thead th {\n",
       "        text-align: right;\n",
       "    }\n",
       "</style>\n",
       "<table border=\"1\" class=\"dataframe\">\n",
       "  <thead>\n",
       "    <tr style=\"text-align: right;\">\n",
       "      <th></th>\n",
       "      <th>From</th>\n",
       "      <th>To</th>\n",
       "      <th>Date</th>\n",
       "      <th>No_of_Attachments</th>\n",
       "      <th>Attachment_type</th>\n",
       "      <th>Subject</th>\n",
       "      <th>Body</th>\n",
       "      <th>Target</th>\n",
       "      <th>text</th>\n",
       "      <th>predicted</th>\n",
       "    </tr>\n",
       "  </thead>\n",
       "  <tbody>\n",
       "    <tr>\n",
       "      <th>0</th>\n",
       "      <td>John@ABCShipping.com</td>\n",
       "      <td>SingaporeBooking@wns.com, Shawn@ABCShipping.co...</td>\n",
       "      <td>2020-12-05 00:00:00</td>\n",
       "      <td>0</td>\n",
       "      <td>NaN</td>\n",
       "      <td>Booking Request SIN to AWP  RG43423434</td>\n",
       "      <td>Please book our shippment on 20 May SIN to HAM...</td>\n",
       "      <td>Booking</td>\n",
       "      <td>Booking Request SIN to AWP  RG43423434 Please ...</td>\n",
       "      <td>News</td>\n",
       "    </tr>\n",
       "    <tr>\n",
       "      <th>1</th>\n",
       "      <td>John@ABCShipping.com</td>\n",
       "      <td>SingaporeBooking@wns.com, Shawn@ABCShipping.co...</td>\n",
       "      <td>5/13/2020</td>\n",
       "      <td>0</td>\n",
       "      <td>NaN</td>\n",
       "      <td>Re: Booking Request SIN to AWP  RG43423434</td>\n",
       "      <td>Please change Quantity to 10\\n\\nFrom: Singapor...</td>\n",
       "      <td>Booking Amendment</td>\n",
       "      <td>Re: Booking Request SIN to AWP  RG43423434 Ple...</td>\n",
       "      <td>News</td>\n",
       "    </tr>\n",
       "    <tr>\n",
       "      <th>2</th>\n",
       "      <td>Brenda@JLMLogistics.com</td>\n",
       "      <td>SingaporeBooking@wns.com, Tony@ABCShipping.com...</td>\n",
       "      <td>4/18/2020</td>\n",
       "      <td>0</td>\n",
       "      <td>NaN</td>\n",
       "      <td>HBL  no. 4253554</td>\n",
       "      <td>Dear All,\\nPlease book us on below:\\nSingapore...</td>\n",
       "      <td>Booking</td>\n",
       "      <td>HBL  no. 4253554 Dear All,\\nPlease book us on ...</td>\n",
       "      <td>News</td>\n",
       "    </tr>\n",
       "  </tbody>\n",
       "</table>\n",
       "</div>"
      ],
      "text/plain": [
       "                      From                                                 To  \\\n",
       "0     John@ABCShipping.com  SingaporeBooking@wns.com, Shawn@ABCShipping.co...   \n",
       "1     John@ABCShipping.com  SingaporeBooking@wns.com, Shawn@ABCShipping.co...   \n",
       "2  Brenda@JLMLogistics.com  SingaporeBooking@wns.com, Tony@ABCShipping.com...   \n",
       "\n",
       "                  Date  No_of_Attachments Attachment_type  \\\n",
       "0  2020-12-05 00:00:00                  0             NaN   \n",
       "1            5/13/2020                  0             NaN   \n",
       "2            4/18/2020                  0             NaN   \n",
       "\n",
       "                                      Subject  \\\n",
       "0      Booking Request SIN to AWP  RG43423434   \n",
       "1  Re: Booking Request SIN to AWP  RG43423434   \n",
       "2                            HBL  no. 4253554   \n",
       "\n",
       "                                                Body             Target  \\\n",
       "0  Please book our shippment on 20 May SIN to HAM...            Booking   \n",
       "1  Please change Quantity to 10\\n\\nFrom: Singapor...  Booking Amendment   \n",
       "2  Dear All,\\nPlease book us on below:\\nSingapore...            Booking   \n",
       "\n",
       "                                                text predicted  \n",
       "0  Booking Request SIN to AWP  RG43423434 Please ...      News  \n",
       "1  Re: Booking Request SIN to AWP  RG43423434 Ple...      News  \n",
       "2  HBL  no. 4253554 Dear All,\\nPlease book us on ...      News  "
      ]
     },
     "execution_count": 65,
     "metadata": {},
     "output_type": "execute_result"
    }
   ],
   "source": [
    "df1 = df[:3]\n",
    "df1['predicted']=[i['labels'][0] for i in batch_output]\n",
    "df1"
   ]
  },
  {
   "cell_type": "code",
   "execution_count": 57,
   "metadata": {},
   "outputs": [
    {
     "name": "stdout",
     "output_type": "stream",
     "text": [
      "Booking Request SIN to AWP  RG43423434 Please book our shippment on 20 May SIN to HAM.\n",
      "FREIGHT PREPAID  \n",
      "See details - \n",
      "Gross Wt. - 205 kgs\n",
      "Volume - 0.51 cbm\n",
      "\n",
      "---------\n",
      "Re: Booking Request SIN to AWP  RG43423434 Please change Quantity to 10\n",
      "\n",
      "From: SingaporeBooking@wns.com\n",
      "Date: 12/5/2020\n",
      "To: John@ABCShipping.com, Shawn@ABCShipping.com, Rav@ECULine.com\n",
      "Subject: Re: Booking Request SIN to AWP  RG43423434\n",
      "\n",
      "Hi, \n",
      "Your shipment Booked - Booking id - 12121212\n",
      "\n",
      "From: John@ABCShipping.com\n",
      "Date: 12/5/2020\n",
      "To: SingaporeBooking@wns.com, Shawn@ABCShipping.com, Rav@ECULine.com\n",
      "Subject: Booking Request SIN to AWP  \n",
      "\n",
      "\n",
      "Please book our shippment on 20 May SIN to HAM.\n",
      "FREIGHT PREPAID  \n",
      "See details - \n",
      "Gross Wt. - 205 kgs\n",
      "Volume - 0.51 cbm\n",
      "\n",
      "---------\n",
      "HBL  no. 4253554 Dear All,\n",
      "Please book us on below:\n",
      "Singapore / Chennai\n",
      "5 Packages / 45.3 kg / 0.33 M3\n",
      "Freight Paid\n",
      "Electrical parts\n",
      "---------\n"
     ]
    }
   ],
   "source": [
    "for i in df['text'][:3]:# Doubt : How to check what parameters go in an object of another object: How to check if pipe takes in str only of list of str\n",
    "    # pipe(i)\n",
    "    print(i)\n",
    "    print(\"---------\")"
   ]
  },
  {
   "cell_type": "code",
   "execution_count": 56,
   "metadata": {},
   "outputs": [
    {
     "data": {
      "text/plain": [
       "[0    Booking Request SIN to AWP  RG43423434 Please ...\n",
       " 1    Re: Booking Request SIN to AWP  RG43423434 Ple...\n",
       " 2    HBL  no. 4253554 Dear All,\\nPlease book us on ...\n",
       " Name: text, dtype: object]"
      ]
     },
     "execution_count": 56,
     "metadata": {},
     "output_type": "execute_result"
    }
   ],
   "source": [
    "[df['text'][:3]]"
   ]
  },
  {
   "cell_type": "code",
   "execution_count": null,
   "metadata": {},
   "outputs": [],
   "source": []
  }
 ],
 "metadata": {
  "kernelspec": {
   "display_name": "venv_ai_app",
   "language": "python",
   "name": "python3"
  },
  "language_info": {
   "codemirror_mode": {
    "name": "ipython",
    "version": 3
   },
   "file_extension": ".py",
   "mimetype": "text/x-python",
   "name": "python",
   "nbconvert_exporter": "python",
   "pygments_lexer": "ipython3",
   "version": "3.11.5"
  },
  "orig_nbformat": 4
 },
 "nbformat": 4,
 "nbformat_minor": 2
}
